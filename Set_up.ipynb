{
 "cells": [
  {
   "cell_type": "code",
   "execution_count": null,
   "id": "6bb1e853",
   "metadata": {},
   "outputs": [],
   "source": [
    "! git clone https://github.com/Brunk-Lab/Chem430_DataExploration2.git"
   ]
  },
  {
   "cell_type": "code",
   "execution_count": null,
   "id": "5644c5b5",
   "metadata": {},
   "outputs": [],
   "source": [
    "pip install py3Dmol"
   ]
  }
 ],
 "metadata": {
  "kernelspec": {
   "display_name": "Python 3",
   "language": "python",
   "name": "python3"
  },
  "language_info": {
   "codemirror_mode": {
    "name": "ipython",
    "version": 3
   },
   "file_extension": ".py",
   "mimetype": "text/x-python",
   "name": "python",
   "nbconvert_exporter": "python",
   "pygments_lexer": "ipython3",
   "version": "3.8.8"
  }
 },
 "nbformat": 4,
 "nbformat_minor": 5
}
